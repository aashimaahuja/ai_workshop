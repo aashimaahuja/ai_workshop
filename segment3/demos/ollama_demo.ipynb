{
 "cells": [
  {
   "cell_type": "code",
   "execution_count": 11,
   "id": "926af92a-2dea-49c3-9e56-31d7a821ad6c",
   "metadata": {},
   "outputs": [],
   "source": [
    "import requests"
   ]
  },
  {
   "cell_type": "code",
   "execution_count": 12,
   "id": "1bd3eec2-f637-435a-80f4-2a4f3839c146",
   "metadata": {},
   "outputs": [],
   "source": [
    "movie_review = \"\"\"\n",
    "Damien Chazelle’s La La Land is a dazzling mix of old-school Hollywood charm and modern-day realism. At first glance, it’s a musical about two dreamers — Sebastian (Ryan Gosling), a struggling jazz musician, and Mia (Emma Stone), an aspiring actress. But beneath the glitter and catchy tunes lies a poignant story about ambition, sacrifice, and the bittersweet choices that shape our lives.\n",
    "\n",
    "The film’s opening sequence on a jammed Los Angeles freeway sets the tone: vibrant, chaotic, and bursting with energy. Gosling and Stone’s chemistry is effortless, their characters believable, flawed, and relatable. The cinematography by Linus Sandgren paints LA like a dreamscape — glowing sunsets, starry skies, and surreal dance numbers that blur fantasy with reality.\n",
    "\n",
    "What truly makes La La Land unforgettable is its ending. Without giving spoilers, it dares to be honest about how love and dreams don’t always coexist perfectly. Instead of leaving you crushed, it leaves you thoughtful — celebrating both what was gained and what was lost. \n",
    "\n",
    "\"\"\""
   ]
  },
  {
   "cell_type": "code",
   "execution_count": 15,
   "id": "f7098ca0-95da-4318-9f4b-f02ce1f11d4b",
   "metadata": {},
   "outputs": [
    {
     "name": "stdout",
     "output_type": "stream",
     "text": [
      "Here is a summary of the text in 3-4 bullet points:\n",
      "\n",
      "• Large Language Models (LLMs) are revolutionizing the way we interact with technology.\n",
      "• They enable natural language interfaces in products and services, allowing for tasks such as writing assistance and code generation.\n",
      "• However, effectively using these models requires an understanding of their limitations.\n",
      "• Additionally, it's necessary to consider the costs and configuration settings involved in deploying LLMs.\n"
     ]
    }
   ],
   "source": [
    "import requests\n",
    "\n",
    "def summarize_with_ollama(prompt, model='llama3:8b'):\n",
    "    response = requests.post(\n",
    "        'http://localhost:11434/api/generate',\n",
    "        json={\n",
    "            'model': model,\n",
    "            'prompt': prompt,\n",
    "            'stream': False\n",
    "        }\n",
    "    )\n",
    "    return response.json()['response']\n",
    "\n",
    "long_text = \"\"\"\n",
    "Large language models (LLMs) are transforming how we interact with technology.\n",
    "From writing assistance to code generation, they allow for natural language interfaces\n",
    "in products and services. However, using these models effectively requires understanding\n",
    "their limitations, costs, and configuration settings...\n",
    "\"\"\"\n",
    "\n",
    "prompt = f\"Summarize the following text in 3-4 bullet points:\\n\\n{long_text}\"\n",
    "summary = summarize_with_ollama(prompt)\n",
    "print(summary)"
   ]
  },
  {
   "cell_type": "code",
   "execution_count": 22,
   "id": "33881a3a-f3fd-4717-a7ef-28d4323decc8",
   "metadata": {},
   "outputs": [
    {
     "name": "stdout",
     "output_type": "stream",
     "text": [
      "Here are 2-3 bullet points summarizing the movie review:\n",
      "\n",
      "* **La La Land** is a charming musical that combines old-school Hollywood glamour with modern-day realism, telling a poignant story about ambition, sacrifice, and the choices we make in life.\n",
      "* The film features stunning cinematography by Linus Sandgren, capturing Los Angeles as a vibrant and chaotic dreamscape, with memorable dance numbers and believable performances from Ryan Gosling and Emma Stone.\n",
      "* The ending of **La La Land** is particularly noteworthy for its honesty about the challenges of balancing love and dreams, leaving viewers thoughtful and celebratory rather than crushed.\n"
     ]
    }
   ],
   "source": [
    "def summarize_with_ollama(prompt,model=\"llama3:8b\"):\n",
    "    response = requests.post(\n",
    "            'http://localhost:11434/api/generate',\n",
    "            json={\n",
    "                'model': model,\n",
    "                'prompt': prompt,\n",
    "                'stream': False\n",
    "            }\n",
    "        )\n",
    "    return response.json()['response']\n",
    "\n",
    "prompt = f\"\"\"Summarise the given movie review separated by triple backticks in 2-3 bullet points\n",
    "\n",
    "movie_review ```{movie_review}```\n",
    "\n",
    "\"\"\"\n",
    "\n",
    "summary = summarize_with_ollama(prompt)\n",
    "print(summary)"
   ]
  },
  {
   "cell_type": "code",
   "execution_count": null,
   "id": "e158a06a-c090-4f42-801a-102b7cc3d510",
   "metadata": {},
   "outputs": [],
   "source": []
  }
 ],
 "metadata": {
  "kernelspec": {
   "display_name": "Python 3 (ipykernel)",
   "language": "python",
   "name": "python3"
  },
  "language_info": {
   "codemirror_mode": {
    "name": "ipython",
    "version": 3
   },
   "file_extension": ".py",
   "mimetype": "text/x-python",
   "name": "python",
   "nbconvert_exporter": "python",
   "pygments_lexer": "ipython3",
   "version": "3.13.4"
  }
 },
 "nbformat": 4,
 "nbformat_minor": 5
}
