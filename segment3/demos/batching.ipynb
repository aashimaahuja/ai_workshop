{
 "cells": [
  {
   "cell_type": "code",
   "execution_count": 1,
   "id": "6262c6e4-6ab4-4be0-a767-41facf84f154",
   "metadata": {},
   "outputs": [],
   "source": [
    "from openai import OpenAI\n",
    "import os\n",
    "from dotenv import load_dotenv\n",
    "\n",
    "\n",
    "# Load .env file\n",
    "load_dotenv()\n",
    "\n",
    "# Set API key\n",
    "client = OpenAI(api_key=os.getenv(\"OPENAI_API_KEY\"))"
   ]
  },
  {
   "cell_type": "code",
   "execution_count": 2,
   "id": "14271132-9486-4991-936e-cbe4a39f84aa",
   "metadata": {},
   "outputs": [],
   "source": [
    "def get_completion(instruction, prompt, model=\"gpt-4o-mini\"):\n",
    "    messages = [ {\"role\": \"system\", \"content\": instruction},{\"role\": \"user\", \"content\": prompt}]\n",
    "    response = client.chat.completions.create(\n",
    "        model=model,\n",
    "        messages=messages,\n",
    "        temperature=0, # this is the degree of randomness of the model's output\n",
    "    )\n",
    "    return response.choices[0].message.content"
   ]
  },
  {
   "cell_type": "code",
   "execution_count": 3,
   "id": "cab63068-4fef-4f18-b808-ed5b08981e11",
   "metadata": {},
   "outputs": [],
   "source": [
    "movie_review_1=\"\"\"Damien Chazelle’s La La Land is a dazzling mix of old-school Hollywood charm and modern-day realism. At first glance, it’s a musical about two dreamers — Sebastian (Ryan Gosling), a struggling jazz musician, and Mia (Emma Stone), an aspiring actress. But beneath the glitter and catchy tunes lies a poignant story about ambition, sacrifice, and the bittersweet choices that shape our lives.\n",
    "The film’s opening sequence on a jammed Los Angeles freeway sets the tone: vibrant, chaotic, and bursting with energy. Gosling and Stone’s chemistry is effortless, their characters believable, flawed, and relatable. The cinematography by Linus Sandgren paints LA like a dreamscape — glowing sunsets, starry skies, and surreal dance numbers that blur fantasy with reality.\n",
    "What truly makes La La Land unforgettable is its ending. Without giving spoilers, it dares to be honest about how love and dreams don’t always coexist perfectly. Instead of leaving you crushed, it leaves you thoughtful — celebrating both what was gained and what was lost.\"\"\"\n"
   ]
  },
  {
   "cell_type": "code",
   "execution_count": 4,
   "id": "8ca5b9ff-b62f-4a20-9eb3-342890f343b7",
   "metadata": {},
   "outputs": [],
   "source": [
    "movie_review_2 = \"\"\"Nancy Meyers crafts a heartwarming slice-of-life film in The Intern, where Robert De Niro plays Ben Whittaker, a retired widower who joins a fashion startup run by Jules Ostin (Anne Hathaway). What could’ve been just a predictable comedy becomes surprisingly layered thanks to its gentle humor and emotional warmth.\n",
    "\n",
    "De Niro plays Ben with grace — he’s calm, wise, and endlessly kind, a stark contrast to the fast-paced, tech-driven world of Jules’ company. Their relationship isn’t romantic (thankfully), but it’s one of mutual respect and mentorship. Hathaway shines as a career-driven woman juggling her company, family, and personal insecurities.\n",
    "\n",
    "The film explores themes rarely touched in light comedies: aging gracefully, balancing ambition with personal life, and the loneliness of modern work culture. It doesn’t have shocking twists or heavy drama — instead, it feels like a warm hug in movie form.\"\"\"\n"
   ]
  },
  {
   "cell_type": "code",
   "execution_count": 7,
   "id": "2c9175f7-9b6b-466e-91e0-6bc8f6bd9e72",
   "metadata": {},
   "outputs": [],
   "source": [
    "movie_review_3=\"\"\"\n",
    "Zoya Akhtar’s ZNMD is more than just a road-trip film — it’s a coming-of-age story about friendship, healing, and embracing life. Three friends — Arjun (Hrithik Roshan), Imran (Farhan Akhtar), and Kabir (Abhay Deol) — set off on a bachelor trip across Spain, and each of them ends up confronting fears, unspoken truths, and hidden desires.\n",
    "\n",
    "The film thrives on its simplicity: real conversations, witty banter, and breathtaking landscapes that serve as both backdrop and metaphor. The skydiving, deep-sea diving, and bull-running sequences aren’t just adrenaline rushes — they symbolize letting go of fears and living fully. The poetry, voiced by Farhan, adds soul, while the music by Shankar-Ehsaan-Loy keeps the tone light yet memorable.\n",
    "\n",
    "What makes ZNMD timeless is how relatable it feels. It’s not about grand drama, but about the small choices that change lives: apologizing, confessing love, confronting parents, or simply choosing to pause and breathe.\n",
    "\"\"\""
   ]
  },
  {
   "cell_type": "code",
   "execution_count": 17,
   "id": "9a81cb22-554e-42c0-b2a8-822d7864228a",
   "metadata": {},
   "outputs": [
    {
     "name": "stdout",
     "output_type": "stream",
     "text": [
      "CompletionUsage(completion_tokens=37, prompt_tokens=266, total_tokens=303, completion_tokens_details=CompletionTokensDetails(accepted_prediction_tokens=0, audio_tokens=0, reasoning_tokens=0, rejected_prediction_tokens=0), prompt_tokens_details=PromptTokensDetails(audio_tokens=0, cached_tokens=0))\n",
      "Total cost : $0.000248\n"
     ]
    }
   ],
   "source": [
    "instruction=\"\"\"You are a helpful assistant that summarizes text\"\"\"\n",
    "prompt=f\"\"\"Your task is to generate short summary of the movie review.\n",
    "\n",
    "Summarise the following review separated by triple backticks in not more than 30 words\n",
    "\n",
    "movie_review ```{movie_review_1}```\n",
    "\"\"\"\n",
    "\n",
    "response = client.chat.completions.create(\n",
    "        model=\"gpt-4o-mini\",\n",
    "        messages=[{\"role\": \"system\", \"content\":instruction}, {\"role\":\"user\", \"content\": prompt}],\n",
    "        temperature=0,\n",
    ")\n",
    "\n",
    "usage = response.usage;\n",
    "rate_in = 0.60/1000000\n",
    "rate_out = 2.40/1000000\n",
    "\n",
    "cost = rate_in*usage.prompt_tokens + rate_out*usage.completion_tokens\n",
    "print(f\"\"\"Total cost : ${cost:.6f}\"\"\")\n"
   ]
  },
  {
   "cell_type": "raw",
   "id": "58fb2c30-6d45-4480-9651-f4713321eb6f",
   "metadata": {},
   "source": [
    "reviews = [movie_review_1,movie_review_2,movie_review_3]\n",
    "instruction=\"\"\"You are helpful assistant that summarises reviews\"\"\"\n",
    "\n",
    "rate_in = 0.60/1000000\n",
    "rate_out = 2.40/1000000\n",
    "total_cost = 0\n",
    "\n",
    "for i in range(len(reviews)):\n",
    "    prompt=f\"\"\"\n",
    "    your task is to generate short summary of movie review given in triple backticks in 1-2 lines.\n",
    "    movie_review ```{reviews[i]}```\n",
    "    \"\"\"\n",
    "    response = client.chat.completions.create(\n",
    "        model=\"gpt-4o-mini\",\n",
    "        messages=[{\"role\": \"system\", \"content\":instruction}, {\"role\":\"user\", \"content\": prompt}],\n",
    "        temperature=0,\n",
    "    )\n",
    "    usage = response.usage\n",
    "    cost = rate_in*usage.prompt_tokens + rate_out*usage.completion_tokens\n",
    "    total_cost=total_cost + cost\n",
    "\n",
    "    print(f\"\"\"{i} {response.choices[0].message.content}\\n\"\"\")\n",
    "\n",
    "print(f\"\"\"Total cosst: ${total_cost}\"\"\")    \n"
   ]
  },
  {
   "cell_type": "code",
   "execution_count": 23,
   "id": "d84231c1-4873-47be-8e28-d82a2e3d68d6",
   "metadata": {},
   "outputs": [
    {
     "name": "stdout",
     "output_type": "stream",
     "text": [
      "**Review 1:** *La La Land* is a vibrant musical that blends old Hollywood charm with modern realism, exploring themes of ambition and sacrifice through the relatable journey of two dreamers, culminating in a thought-provoking ending about love and dreams.\n",
      "\n",
      "**Review 2:** *The Intern* is a heartwarming film featuring Robert De Niro as a wise retiree mentoring Anne Hathaway's character in a fashion startup, exploring themes of aging, ambition, and the loneliness of modern work culture with gentle humor and emotional depth.\n",
      "\n",
      "**Review 3:** *ZNMD* is a coming-of-age road-trip film that delves into friendship and self-discovery as three friends confront their fears and desires in Spain, using real conversations and breathtaking visuals to highlight the significance of small life choices.\n",
      "0.00030119999999999995\n"
     ]
    }
   ],
   "source": [
    "instruction=\"You are a concise summariser\"\n",
    "reviews = [movie_review_1,movie_review_2,movie_review_3]\n",
    "\n",
    "rate_in = 0.60/1000000\n",
    "rate_out = 2.40/1000000\n",
    "\n",
    "\n",
    "prompt=\"Summarise each of the following review in 1-2 lines:\\n\\n\"\n",
    "for i,review in enumerate(reviews):\n",
    "    prompt+=f\"\"\"Review {i+1}:\\n```{review}```\\n\\n\"\"\"\n",
    "response_batch = client.chat.completions.create(\n",
    "        model=\"gpt-4o-mini\",\n",
    "        messages=[{\"role\": \"system\", \"content\":instruction}, {\"role\":\"user\", \"content\": prompt}],\n",
    "        temperature=0,\n",
    ")\n",
    "print(response_batch.choices[0].message.content)\n",
    "usage = response.usage\n",
    "cost = rate_in*usage.prompt_tokens + rate_out*usage.completion_tokens\n",
    "print(cost)"
   ]
  },
  {
   "cell_type": "code",
   "execution_count": null,
   "id": "753193c4-27c1-4a6a-9cf4-8eec9ba9a60c",
   "metadata": {},
   "outputs": [],
   "source": []
  }
 ],
 "metadata": {
  "kernelspec": {
   "display_name": "Python 3 (ipykernel)",
   "language": "python",
   "name": "python3"
  },
  "language_info": {
   "codemirror_mode": {
    "name": "ipython",
    "version": 3
   },
   "file_extension": ".py",
   "mimetype": "text/x-python",
   "name": "python",
   "nbconvert_exporter": "python",
   "pygments_lexer": "ipython3",
   "version": "3.13.4"
  }
 },
 "nbformat": 4,
 "nbformat_minor": 5
}
