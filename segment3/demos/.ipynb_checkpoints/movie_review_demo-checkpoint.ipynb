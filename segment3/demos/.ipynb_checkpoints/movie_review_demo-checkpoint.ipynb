{
 "cells": [
  {
   "cell_type": "code",
   "execution_count": 6,
   "id": "e69b8b1e-a46d-466b-a05d-1032e8607506",
   "metadata": {},
   "outputs": [],
   "source": [
    "from openai import OpenAI\n",
    "import os\n",
    "from dotenv import load_dotenv\n",
    "\n",
    "\n",
    "# Load .env file\n",
    "load_dotenv()\n",
    "\n",
    "# Set API key\n",
    "client = OpenAI(api_key=os.getenv(\"OPENAI_API_KEY\"))"
   ]
  },
  {
   "cell_type": "code",
   "execution_count": 30,
   "id": "392d5cb9-7e05-4160-a5dd-a7284187efcb",
   "metadata": {},
   "outputs": [],
   "source": [
    "def get_completion(instruction, prompt, model=\"gpt-4o-mini\"):\n",
    "    messages = [ {\"role\": \"system\", \"content\": instruction},{\"role\": \"user\", \"content\": prompt}]\n",
    "    response = client.chat.completions.create(\n",
    "        model=model,\n",
    "        messages=messages,\n",
    "        temperature=0, # this is the degree of randomness of the model's output\n",
    "    )\n",
    "    return response.choices[0].message.content"
   ]
  },
  {
   "cell_type": "code",
   "execution_count": 3,
   "id": "fcf52aac-f896-4b98-98bc-8fddb6dd67b6",
   "metadata": {},
   "outputs": [],
   "source": [
    "movie_review = \"\"\"\n",
    "Damien Chazelle’s La La Land is a dazzling mix of old-school Hollywood charm and modern-day realism. At first glance, it’s a musical about two dreamers — Sebastian (Ryan Gosling), a struggling jazz musician, and Mia (Emma Stone), an aspiring actress. But beneath the glitter and catchy tunes lies a poignant story about ambition, sacrifice, and the bittersweet choices that shape our lives.\n",
    "\n",
    "The film’s opening sequence on a jammed Los Angeles freeway sets the tone: vibrant, chaotic, and bursting with energy. Gosling and Stone’s chemistry is effortless, their characters believable, flawed, and relatable. The cinematography by Linus Sandgren paints LA like a dreamscape — glowing sunsets, starry skies, and surreal dance numbers that blur fantasy with reality.\n",
    "\n",
    "What truly makes La La Land unforgettable is its ending. Without giving spoilers, it dares to be honest about how love and dreams don’t always coexist perfectly. Instead of leaving you crushed, it leaves you thoughtful — celebrating both what was gained and what was lost. \n",
    "\n",
    "\"\"\""
   ]
  },
  {
   "cell_type": "code",
   "execution_count": 31,
   "id": "e603b2d8-0177-446e-8838-6b6eb739fb3c",
   "metadata": {},
   "outputs": [
    {
     "name": "stdout",
     "output_type": "stream",
     "text": [
      "La La Land blends classic Hollywood charm with modern realism, showcasing a poignant story of ambition and sacrifice, highlighted by stunning visuals and a thought-provoking ending.\n"
     ]
    }
   ],
   "source": [
    "instruction = f\"\"\"\n",
    "You are a helpful assistant that summarises text\n",
    "\"\"\"\n",
    "\n",
    "prompt = f\"\"\"\n",
    "Your task is to generate a short summary of this episode \\\n",
    "review from an ecommerce site. \n",
    "\n",
    "Summarize the movie review below, delimited by triple \n",
    "backticks, in at most 30 words. \n",
    "\n",
    "review: ```{movie_review}```\n",
    "\"\"\"\n",
    "\n",
    "response = get_completion(instruction,prompt)\n",
    "print(response)"
   ]
  },
  {
   "cell_type": "code",
   "execution_count": 33,
   "id": "b6e6191d-d0a5-4830-a20f-66e5d059276f",
   "metadata": {},
   "outputs": [
    {
     "name": "stdout",
     "output_type": "stream",
     "text": [
      "- \"La La Land,\" directed by Damien Chazelle, combines classic Hollywood charm with contemporary themes, focusing on the lives of two dreamers: a jazz musician and an aspiring actress.\n",
      "- The film features vibrant cinematography that captures Los Angeles in a dreamlike manner, complemented by the strong chemistry between the lead actors, Ryan Gosling and Emma Stone.\n",
      "- Its opening sequence sets an energetic tone, while the narrative explores deeper themes of ambition, sacrifice, and the complexities of love.\n",
      "- The film's ending is thought-provoking, highlighting the bittersweet nature of pursuing dreams and relationships without being overly tragic.\n"
     ]
    }
   ],
   "source": [
    "prompt=f\"\"\"\n",
    "Summarise the movie review below, delimited by triple backticks, in 3-4 bullet points\n",
    "\n",
    "review: ```{movie_review}```\n",
    "\"\"\"\n",
    "instruction = f\"\"\"\n",
    "You are a helpful assistant that summarises text\n",
    "\"\"\"\n",
    "response = get_completion(instruction,prompt)\n",
    "print(response)"
   ]
  },
  {
   "cell_type": "code",
   "execution_count": 34,
   "id": "d3a51bef-c903-4bd2-93ad-35480d28c00e",
   "metadata": {},
   "outputs": [
    {
     "name": "stdout",
     "output_type": "stream",
     "text": [
      "```json\n",
      "{\n",
      "  \"director\": \"Damien Chazelle\",\n",
      "  \"actors\": [\"Ryan Gosling\", \"Emma Stone\"],\n",
      "  \"summary\": \"La La Land is a musical that blends old-school Hollywood charm with modern realism, telling the story of two dreamers, Sebastian and Mia, who navigate ambition, sacrifice, and the bittersweet choices of life. The film features vibrant cinematography and a memorable ending that reflects on the complexities of love and dreams.\"\n",
      "}\n",
      "```\n"
     ]
    }
   ],
   "source": [
    "prompt=f\"\"\"\n",
    "Summarise the movie review below, delimited by triple backticks, in JSON format. The JSON should have the fields \"director\",\"actors\" and \"summary\"\n",
    "\n",
    "review: ```{movie_review}```\n",
    "\"\"\"\n",
    "instruction = f\"\"\"\n",
    "You are a helpful assistant that summarises text in JSON format\n",
    "\"\"\"\n",
    "response = get_completion(instruction,prompt)\n",
    "print(response)"
   ]
  },
  {
   "cell_type": "code",
   "execution_count": null,
   "id": "9e7c253f-de0d-4482-b19f-53ff19cbe302",
   "metadata": {},
   "outputs": [],
   "source": []
  }
 ],
 "metadata": {
  "kernelspec": {
   "display_name": "Python 3 (ipykernel)",
   "language": "python",
   "name": "python3"
  },
  "language_info": {
   "codemirror_mode": {
    "name": "ipython",
    "version": 3
   },
   "file_extension": ".py",
   "mimetype": "text/x-python",
   "name": "python",
   "nbconvert_exporter": "python",
   "pygments_lexer": "ipython3",
   "version": "3.13.4"
  }
 },
 "nbformat": 4,
 "nbformat_minor": 5
}
