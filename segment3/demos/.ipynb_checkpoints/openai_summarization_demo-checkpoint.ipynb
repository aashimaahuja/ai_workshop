{
 "cells": [
  {
   "cell_type": "code",
   "execution_count": 6,
   "id": "59ee8d4f-3ff4-4b1a-bee3-3b0289331719",
   "metadata": {},
   "outputs": [],
   "source": [
    "from openai import OpenAI\n",
    "import os\n",
    "from dotenv import load_dotenv\n",
    "\n",
    "\n",
    "# Load .env file\n",
    "load_dotenv()\n",
    "\n",
    "# Set API key\n",
    "client = OpenAI(api_key=os.getenv(\"OPENAI_API_KEY\"))"
   ]
  },
  {
   "cell_type": "code",
   "execution_count": 3,
   "id": "29846af2-85ef-4071-a79d-0562dcf7e895",
   "metadata": {},
   "outputs": [],
   "source": [
    "input_text = \"\"\"\n",
    "Episode 1 \n",
    "\n",
    "Welcome to cracking the frontend interview course. There's no set of standards or rules and practices that you walk to an interview with, you say I know exactly what is gonna happen,or I know exactly the type of questions they're gonna ask. It's random. Especially in the front end, the tech changes so fast . If you were to hit your head and go into a coma and wake up,you would have no idea what's going on in the front end anymore.Browsers work completely differently, technology's completely different.\n",
    "You're like, what's an angular? What's Vue? What’s react?\n",
    "Also frontend is such a broad category. Browsers , desktop, Mobile devices and so much more. There are tons of different things lumped together under a single category so it's difficult to say this is one thing for frontend and it's only this. These things make it difficult to interview for frontend.\n",
    "\n",
    "All right, my name is Aashima Ahuja, I am a senior frontend engineer at fareharbor in Amsterdam. If i have to tell my superhero career story, I did bachelors from India, moved to Amsterdam by Booking.com. Joined Meta in Amsterdam as  a UI engineer.\n",
    "I can’t guarantee that by the end of this course, i would have answered every single interview question but i can guarantee that you would have a better understanding of ins and outs of frontend interview.\n",
    "\n",
    "The first crucial step of interviewing is ofcourse getting the interview call. With hundreds of experienced devs in the market, the most difficult step is to get your resume shortlisted and getting the first call.\n",
    "Now don’t get disheartened by the amount of applicants. But let’s focus on what you can do to stand out from that queue of applicants. \n",
    "Referral is an effective way to get an interview call. If you find a colleague or friend in a company you want to apply to, ask for a referral. This can speed up your application process and sometimes your friend can also follow up your application. I have seen a lot of people asking for referrals over LinkedIn messages or some posts. The caveat here is also how you ask for a referral. People usually ask like, “Can you refer me to your company?”.  The other person doesn’t know which role you are looking for , what’s the job id etc.\n",
    "In big companies with hundreds of openings it's impossible to find an open position without a jobId.\n",
    "So the best thing you can do here is to check the opening on linkedIn. Almost all the companies post their job openings on LinkedIn. After that ask your friend if he or she can refer you for that role at xyz location with jobid. The more information you provide , the easier it is for other person to refer you.\n",
    "\n",
    "If you want to apply through online portals like LinkedIn, search your role in the job title. You can also search for jobs in different locations.  What I personally like to do is that I turn on the job notifications based on my search criteria. For instance if I am looking for a frontend engineer role in Germany , I would put frontend engineer in the job title and select the location as germany. Additionally I would click on the bell icon which says (turn on  notifications for this job). This helps me not to miss any new openings.\n",
    "There are also career websites. If you are looking to apply at a specific company like Meta, Google or Amazon, you can also check the job opening at the company's career website and apply directly from there. I have also seen people getting jobs from twitter by posting their projects and getting attention but that’s a separate story.\n",
    "\n",
    "In order to apply for a job, you need a resume. There are several websites like canva, resume builder which provides resume templates. My personal favorite is google docs resume template. Your resume should be strictly one page. Some you might say that you have many years of experience and there are alot of things to mention in a resume, try to keep things precise and limit it to a single page.  First section that goes in your resume is your professional experience. There you would mention the companies and projects you have worked on. If you have a lot of them, mention the most important ones.\n",
    "Next important thing you would mention is the technologies and frameworks you have experience on. For frontend engineers it can include javascript, React, vue, html, git so and so. Don’t mention things you are not confident about. For example If you have worked on java a long time back but you are not confident about it anymore, just exclude it as you wouldn’t want to be questioned about it.\n",
    "Other things which go in your resume are your education and accomplishments. If you have more to write in your experience section , you can skip accomplishments unless there is really something you would want to highlight.\n",
    "\n",
    "When you are applying for a job online, make sure you go through their job description and add all the keywords of skills that are necessary for that job. Most companies have tools for shortlisting the CVs and these softwares rely on keyword matching from JD to resume. Keep your resume in editable docs format so that you can modify it for different job applications instead of using the same resume for every application.\n",
    "Most of the companies’ recruiters are non technical, so don’t expect them to know libraries or frameworks of your technology. Be as explicit as you can in your resume. If you have mentioned React in technologies, don’t think mentioning HTML is unnecessary. Small things sometimes make a huge difference like proper naming of resume file.  Include your name , role and experience like my resume file name would be (AashimaAhuja_frontend_8years). This will help recruiters to find it easily among several other resumes.\n",
    "\n",
    "A lot of companies these days also ask for a cover letter along with the resume. So what’s a cover letter?\n",
    "Cover letter is  simply a summary of your work, experience and reason for why you are interested in this job. Cover letter should be short and to the point. Just a few lines or a small paragraph. Include your role, experience, technologies, work and motivation. So your cover letter would be something like\n",
    "\n",
    "“I am excited to apply for the role of Senior Frontend Engineer at <company> With …. years of experience in web development and a proficiency in <your_technologies>, I am confident in my ability to contribute to your company.”\n",
    "\n",
    "You can use chat gpt to formulate a nice cover letter for you.\n",
    "\n",
    "Motivation letter is also something which is sometimes asked by some companies while applying for a job.\n",
    "A lot of times companies don’t ask you directly to provide a motivation letter but instead there is a column in the job application “Why do you want to join our company?”\n",
    "Motivation letter is similar to a cover letter, but it mainly focuses on why you want to join or be part of this particular company. For that research about the company. What does the company do , what are its values . You can state how your skillset aligns with the role. Admire things about the company and what motivates you to join that company. It can be something like working on large systems or dealing with high scale user products. Again you can use Chat gpt’s help to create one.\n",
    "\n",
    "I receive a lot of questions regarding how to apply for jobs as a fresher or with very less experience of 1 or 2 years.  For freshers it's important that they get some experience by working on some personal projects , doing some internships or getting a freelance project. Have a github, have something on there that shows you can code, and shows your style of coding. Post out the things you do on Twitter.\n",
    "I can't guarantee you that's gonna land you a job, but it'll get you noticed. \n",
    "\n",
    "\n",
    "Second most important thing is connect , connect and connect. Making connections is an effective way of landing into a job especially when you are a fresher. You meet someone at a meetup or conference and ask them for work. The caveat here is only that when you don’t have any experience ,don’t expect huge salaries. Your main focus should be getting experience and learning the skill. I know some college grads getting high stipends in their internships at google. But that’s an exception. \n",
    "\n",
    "\"\"\""
   ]
  },
  {
   "cell_type": "code",
   "execution_count": 4,
   "id": "6d58d3f4-a45e-448e-9f4b-b46961b3adcf",
   "metadata": {},
   "outputs": [
    {
     "name": "stdout",
     "output_type": "stream",
     "text": [
      "In Episode 1 of the \"Cracking the Frontend Interview\" course, Aashima Ahuja, a senior frontend engineer, discusses the unpredictable nature of frontend interviews due to rapidly changing technology and the broad scope of frontend development. She emphasizes that the first challenge is getting an interview call, suggesting that referrals from colleagues or friends can significantly enhance the chances of being noticed among numerous applicants. Aashima advises applicants to provide specific details when requesting referrals and to utilize job notifications on platforms like LinkedIn.\n",
      "\n",
      "When applying for jobs, she stresses the importance of a concise, one-page resume that highlights relevant professional experience, technologies, and achievements. Tailoring resumes to include keywords from job descriptions is crucial for passing automated screening tools. Aashima also explains the significance of cover letters and motivation letters, which summarize work experience and express interest in the company.\n",
      "\n",
      "For freshers or those with limited experience, Aashima recommends working on personal projects, internships, or freelance opportunities to build a portfolio, and stresses the importance of networking to secure job opportunities. Overall, the episode provides practical advice for navigating the frontend job application process.\n"
     ]
    }
   ],
   "source": [
    "response = client.chat.completions.create(\n",
    "    model=\"gpt-4o-mini\",\n",
    "    messages=[\n",
    "        {\"role\": \"system\", \"content\": \"You are a helpful assistant that summarizes text.\"},\n",
    "        {\"role\": \"user\", \"content\": f\"Summarize this:\\n\\n{input_text}\"}\n",
    "    ],\n",
    "    temperature=0.5\n",
    ")\n",
    "\n",
    "print(response.choices[0].message.content)"
   ]
  },
  {
   "cell_type": "code",
   "execution_count": 18,
   "id": "4edd8ace-5ba0-4374-b8a4-2cc8d3b9e251",
   "metadata": {},
   "outputs": [
    {
     "name": "stdout",
     "output_type": "stream",
     "text": [
      "- The frontend interview landscape is unpredictable due to rapid technological changes and the broad scope of frontend development, making it challenging to prepare effectively.\n",
      "- Aashima Ahuja, a senior frontend engineer, emphasizes the importance of standing out in a competitive job market, particularly through networking and referrals.\n",
      "- To enhance job applications, candidates should tailor their resumes to include relevant skills and experiences, keeping them concise and one page long.\n",
      "- Cover letters and motivation letters are crucial components of job applications, summarizing the candidate's experience and reasons for wanting to join a specific company.\n",
      "- For freshers, gaining experience through personal projects, internships, or freelance work, along with building a professional network, is essential for landing a job in frontend development.\n"
     ]
    }
   ],
   "source": [
    "response_bullets = client.chat.completions.create(\n",
    "    model=\"gpt-4o-mini\",\n",
    "    messages=[\n",
    "        {\"role\": \"system\", \"content\": \"You are a helpful assistant that summarizes text.\"},\n",
    "        {\"role\": \"user\", \"content\": f\"Summarize this text into 3-5 bullet points:\\n\\n{input_text}\"}\n",
    "    ],\n",
    "    temperature=0.5\n",
    ")\n",
    "\n",
    "print(response_bullets.choices[0].message.content)"
   ]
  },
  {
   "cell_type": "code",
   "execution_count": 6,
   "id": "871ac445-6a97-4cdf-aa8d-ee54de607bc7",
   "metadata": {},
   "outputs": [
    {
     "name": "stdout",
     "output_type": "stream",
     "text": [
      "```json\n",
      "{\n",
      "  \"summary\": \"Episode 1 of the 'Cracking the Frontend Interview' course discusses the unpredictable nature of frontend interviews, the importance of standing out in the application process, and strategies for creating an effective resume and cover letter. Aashima Ahuja, a senior frontend engineer, shares her personal journey and offers advice on how to navigate the job market, especially for freshers and those with limited experience.\",\n",
      "  \"key_points\": [\n",
      "    \"Frontend interviews are unpredictable due to rapidly changing technologies.\",\n",
      "    \"Getting the first interview call is challenging; referrals can help.\",\n",
      "    \"Provide specific job details when asking for referrals to make it easier for your contacts.\",\n",
      "    \"Utilize job notifications on platforms like LinkedIn to stay updated on openings.\",\n",
      "    \"Keep your resume to one page and focus on relevant experience and technologies.\",\n",
      "    \"Tailor your resume using keywords from the job description for better chances of getting shortlisted.\",\n",
      "    \"Include a cover letter summarizing your experience and motivation for the job.\",\n",
      "    \"A motivation letter may be required to explain why you want to join a specific company.\",\n",
      "    \"Freshers should gain experience through personal projects, internships, or freelancing.\",\n",
      "    \"Networking is crucial for job searching, especially for those with little experience.\"\n",
      "  ]\n",
      "}\n",
      "```\n"
     ]
    }
   ],
   "source": [
    "response_json = client.chat.completions.create(\n",
    "    model=\"gpt-4o-mini\",\n",
    "    messages=[\n",
    "        {\"role\": \"system\", \"content\": \"You are a helpful assistant that returns summaries in JSON format.\"},\n",
    "        {\"role\": \"user\", \"content\": f\"Summarize the following text as JSON object with a 'summary' field and a 'key_points' array of string :\\n\\n{input_text}\"}\n",
    "    ],\n",
    "    temperature=0.5\n",
    ")\n",
    "\n",
    "print(response_json.choices[0].message.content)"
   ]
  },
  {
   "cell_type": "code",
   "execution_count": 7,
   "id": "7797d9cf-c948-4c98-931c-5137a5e940bb",
   "metadata": {},
   "outputs": [
    {
     "name": "stdout",
     "output_type": "stream",
     "text": [
      "CompletionUsage(completion_tokens=263, prompt_tokens=1710, total_tokens=1973, completion_tokens_details=CompletionTokensDetails(accepted_prediction_tokens=0, audio_tokens=0, reasoning_tokens=0, rejected_prediction_tokens=0), prompt_tokens_details=PromptTokensDetails(audio_tokens=0, cached_tokens=0))\n"
     ]
    }
   ],
   "source": [
    "print(response_json.usage)"
   ]
  },
  {
   "cell_type": "code",
   "execution_count": 24,
   "id": "da6303c1-49de-443a-9da0-96f718ea6e75",
   "metadata": {},
   "outputs": [
    {
     "name": "stdout",
     "output_type": "stream",
     "text": [
      "Estimated cost (USD) : $0.000563\n"
     ]
    }
   ],
   "source": [
    "rate_input = 0.00025/1000\n",
    "rate_output = 0.00050/1000\n",
    "usage = response_json.usage\n",
    "cost = (usage.prompt_tokens*rate_input)+(usage.completion_tokens*rate_output)\n",
    "print(f\"Estimated cost (USD) : ${cost:.6f}\")"
   ]
  },
  {
   "cell_type": "code",
   "execution_count": 8,
   "id": "ccd66ec5-61fa-429f-860c-e1bd63b1ccbe",
   "metadata": {},
   "outputs": [],
   "source": [
    "input_text = \"\"\"\n",
    "In the latest product strategy meeting held on June 10th, Aashima Ahuja proposed expanding the AI assistant’s capabilities to include real-time document summarization and voice interaction. The engineering team, led by Ravi Sharma, raised concerns about latency and integration with the current tech stack. A follow-up session is scheduled for next week to review performance benchmarks. Meanwhile, Marketing will begin preparing messaging for a potential Q3 beta launch.\n",
    "\"\"\""
   ]
  },
  {
   "cell_type": "code",
   "execution_count": 16,
   "id": "50fa9ff5-2c8a-4b85-b953-2f0ac77e3841",
   "metadata": {},
   "outputs": [
    {
     "name": "stdout",
     "output_type": "stream",
     "text": [
      "{\n",
      "  \"people\": [\n",
      "    \"Aashima Ahuja\",\n",
      "    \"Ravi Sharma\"\n",
      "  ],\n",
      "  \"organizations\": [],\n",
      "  \"topics\": [\n",
      "    \"AI assistant capabilities\",\n",
      "    \"real-time document summarization\",\n",
      "    \"voice interaction\",\n",
      "    \"latency\",\n",
      "    \"integration\",\n",
      "    \"performance benchmarks\",\n",
      "    \"Q3 beta launch\"\n",
      "  ],\n",
      "  \"dates\": [\n",
      "    \"June 10th\",\n",
      "    \"next week\"\n",
      "  ],\n",
      "  \"actionItems\": [\n",
      "    \"expand AI assistant’s capabilities\",\n",
      "    \"review performance benchmarks\",\n",
      "    \"prepare messaging for Q3 beta launch\"\n",
      "  ]\n",
      "}\n"
     ]
    }
   ],
   "source": [
    "response_extract = client.chat.completions.create(\n",
    "model=\"gpt-4o-mini\",\n",
    "messages=[\n",
    "{\n",
    "\"role\": \"system\",\n",
    "\"content\": \"You are an information extraction engine that reads text and outputs structured JSON. Return JSON only.\"\n",
    "},\n",
    "{\n",
    "\"role\": \"user\",\n",
    "\"content\": f\"\"\"Extract key information from the following text:\\n\\n{input_text}\\n\\n. The json should be in the following format:\\n\\n {{\n",
    " \"people\": [],\n",
    " \"organizations\": [],\n",
    " \"topics\":[],\n",
    " \"dates\":[],\n",
    " \"actionItems\":[], \n",
    "}}\"\"\"\n",
    "}\n",
    "],\n",
    "temperature=0.3\n",
    ")\n",
    "\n",
    "print(response_extract.choices[0].message.content)"
   ]
  },
  {
   "cell_type": "code",
   "execution_count": 5,
   "id": "36eafe14-f521-41be-b3fd-f49bbe21b850",
   "metadata": {},
   "outputs": [
    {
     "name": "stdout",
     "output_type": "stream",
     "text": [
      " 1. Large Language Models (LLMs) are revolutionizing technology interactions by providing natural language interfaces for various products and services like writing assistance and code generation.\n",
      "2. Effective utilization of these models necessitates a thorough understanding of their limitations, costs, and configuration settings to ensure optimal performance.\n",
      "3. LLMs have the potential to streamline tasks and improve efficiency in numerous sectors by offering intuitive and user-friendly interfaces.\n",
      "4. It is important to recognize that while LLMs offer significant benefits, there may be costs associated with their use and they require careful configuration to yield desired results.\n"
     ]
    }
   ],
   "source": [
    "import requests\n",
    "\n",
    "def summarize_with_ollama(prompt, model='mistral'):\n",
    "    response = requests.post(\n",
    "        'http://localhost:11434/api/generate',\n",
    "        json={\n",
    "            'model': model,\n",
    "            'prompt': prompt,\n",
    "            'stream': False\n",
    "        }\n",
    "    )\n",
    "    return response.json()['response']\n",
    "\n",
    "long_text = \"\"\"\n",
    "Large language models (LLMs) are transforming how we interact with technology.\n",
    "From writing assistance to code generation, they allow for natural language interfaces\n",
    "in products and services. However, using these models effectively requires understanding\n",
    "their limitations, costs, and configuration settings...\n",
    "\"\"\"\n",
    "\n",
    "prompt = f\"Summarize the following text in 3-4 bullet points:\\n\\n{long_text}\"\n",
    "summary = summarize_with_ollama(prompt)\n",
    "print(summary)"
   ]
  }
 ],
 "metadata": {
  "kernelspec": {
   "display_name": "Python 3 (ipykernel)",
   "language": "python",
   "name": "python3"
  },
  "language_info": {
   "codemirror_mode": {
    "name": "ipython",
    "version": 3
   },
   "file_extension": ".py",
   "mimetype": "text/x-python",
   "name": "python",
   "nbconvert_exporter": "python",
   "pygments_lexer": "ipython3",
   "version": "3.13.4"
  }
 },
 "nbformat": 4,
 "nbformat_minor": 5
}
